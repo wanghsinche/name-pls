{
  "nbformat": 4,
  "nbformat_minor": 0,
  "metadata": {
    "colab": {
      "name": "sklearn2onnx.ipynb",
      "provenance": [],
      "collapsed_sections": [],
      "mount_file_id": "1Q_wkJYW8r4Dhw8c_k9aW204ob-xEc5qT",
      "authorship_tag": "ABX9TyMY1sPfCVlEfD/ekS4CRYIE",
      "include_colab_link": true
    },
    "kernelspec": {
      "name": "python3",
      "display_name": "Python 3"
    },
    "language_info": {
      "name": "python"
    }
  },
  "cells": [
    {
      "cell_type": "markdown",
      "metadata": {
        "id": "view-in-github",
        "colab_type": "text"
      },
      "source": [
        "<a href=\"https://colab.research.google.com/github/wanghsinche/name-pls.js/blob/notebook/notebook/sklearn2onnx.ipynb\" target=\"_parent\"><img src=\"https://colab.research.google.com/assets/colab-badge.svg\" alt=\"Open In Colab\"/></a>"
      ]
    },
    {
      "cell_type": "code",
      "source": [
        "import pickle\n",
        "f = open('/content/drive/MyDrive/Colab Notebooks/R100_Glint360K_XSList.pkl','rb')\n",
        "represent = pickle.load(f)\n",
        "f.close()"
      ],
      "metadata": {
        "id": "Y2OaFLMfNG2i"
      },
      "execution_count": 1,
      "outputs": []
    },
    {
      "cell_type": "code",
      "source": [
        "import re\n",
        "\n",
        "Y = []\n",
        "X = []\n",
        "threshold = 3000\n",
        "idx = 0\n",
        "for idt in represent:\n",
        "    if idx > threshold:\n",
        "        break\n",
        "    idx += 1\n",
        "    Y.append(re.sub(r'_\\d+.jpg','',idt))\n",
        "    X.append(represent[idt])\n",
        "print(len(Y))\n",
        "print(len(X))"
      ],
      "metadata": {
        "colab": {
          "base_uri": "https://localhost:8080/"
        },
        "id": "zK9K5PJCONfj",
        "outputId": "902fda73-a771-4e64-a693-b7487fea4d4d"
      },
      "execution_count": 2,
      "outputs": [
        {
          "output_type": "stream",
          "name": "stdout",
          "text": [
            "2909\n",
            "2909\n"
          ]
        }
      ]
    },
    {
      "cell_type": "code",
      "source": [
        "f = open('/content/drive/MyDrive/Colab Notebooks/insightface/github-represent.pkl', 'rb')\n",
        "githubRep = pickle.load(f)\n",
        "f.close()\n",
        "import numpy as np\n",
        "X = np.concatenate((X,githubRep['feat']), axis=0)\n",
        "Y = np.concatenate((Y,githubRep['target']), axis=0)\n",
        "\n",
        "print(X.shape)\n",
        "print(Y.shape)\n",
        "print(githubRep['feat'].shape)"
      ],
      "metadata": {
        "colab": {
          "base_uri": "https://localhost:8080/"
        },
        "id": "C7Qoo1EGHFhY",
        "outputId": "38794352-8843-468b-88ff-f0f3669b7367"
      },
      "execution_count": 3,
      "outputs": [
        {
          "output_type": "stream",
          "name": "stdout",
          "text": [
            "(2937, 512)\n",
            "(2937,)\n",
            "(28, 512)\n"
          ]
        }
      ]
    },
    {
      "cell_type": "code",
      "source": [
        "from random import randint\n",
        "z = dict()\n",
        "\n",
        "\n",
        "X_train = []\n",
        "X_test = []\n",
        "y_train = []\n",
        "y_test = []\n",
        "\n",
        "id = 0\n",
        "\n",
        "for x, y in zip(X, Y):\n",
        "    \n",
        "    count = z.get(y, 0)\n",
        "\n",
        "    if count <6:\n",
        "        X_train.append(x)\n",
        "        y_train.append(y)\n",
        "    elif randint(1,10)>5:\n",
        "        X_train.append(x)\n",
        "        y_train.append(y)\n",
        "    else:\n",
        "        X_test.append(x)\n",
        "        y_test.append(y)\n",
        "    \n",
        "    z.update({y:count+1})\n",
        "\n",
        "print(len(X_train))\n"
      ],
      "metadata": {
        "id": "EETH2npBOeNY",
        "outputId": "a01e880d-f746-4785-bf12-1837f33f1853",
        "colab": {
          "base_uri": "https://localhost:8080/"
        }
      },
      "execution_count": 4,
      "outputs": [
        {
          "output_type": "stream",
          "name": "stdout",
          "text": [
            "2548\n"
          ]
        }
      ]
    },
    {
      "cell_type": "code",
      "source": [
        "from sklearn.naive_bayes import BernoulliNB\n",
        "from sklearn.pipeline import Pipeline\n",
        "from sklearn.compose import TransformedTargetRegressor\n",
        "\n",
        "clf = BernoulliNB()\n",
        "\n",
        "\n",
        "y_pred = clf.fit(X_train, y_train).predict(X_test)\n",
        "print(\"Number of mislabeled points out of a total %d points : %d\"% (len(X_test), (y_test != y_pred).sum()))\n"
      ],
      "metadata": {
        "id": "xEzV8xOeOlxO",
        "outputId": "9c39efe7-4482-45d2-f83c-59798dee2958",
        "colab": {
          "base_uri": "https://localhost:8080/"
        }
      },
      "execution_count": 15,
      "outputs": [
        {
          "output_type": "stream",
          "name": "stdout",
          "text": [
            "Number of mislabeled points out of a total 389 points : 97\n"
          ]
        }
      ]
    },
    {
      "cell_type": "code",
      "source": [
        "!pip install skl2onnx "
      ],
      "metadata": {
        "id": "xmd0g3oNOqm1",
        "colab": {
          "base_uri": "https://localhost:8080/"
        },
        "outputId": "f00e4e4c-39d6-4f15-b747-50cb42453c52"
      },
      "execution_count": 6,
      "outputs": [
        {
          "output_type": "stream",
          "name": "stdout",
          "text": [
            "Collecting skl2onnx\n",
            "  Downloading skl2onnx-1.10.3-py2.py3-none-any.whl (271 kB)\n",
            "\u001b[K     |████████████████████████████████| 271 kB 5.4 MB/s \n",
            "\u001b[?25hCollecting onnx>=1.2.1\n",
            "  Downloading onnx-1.10.2-cp37-cp37m-manylinux_2_12_x86_64.manylinux2010_x86_64.whl (12.7 MB)\n",
            "\u001b[K     |████████████████████████████████| 12.7 MB 27.6 MB/s \n",
            "\u001b[?25hRequirement already satisfied: protobuf in /usr/local/lib/python3.7/dist-packages (from skl2onnx) (3.17.3)\n",
            "Requirement already satisfied: numpy>=1.15 in /usr/local/lib/python3.7/dist-packages (from skl2onnx) (1.19.5)\n",
            "Collecting onnxconverter-common>=1.7.0\n",
            "  Downloading onnxconverter_common-1.9.0-py2.py3-none-any.whl (78 kB)\n",
            "\u001b[K     |████████████████████████████████| 78 kB 6.9 MB/s \n",
            "\u001b[?25hRequirement already satisfied: scipy>=1.0 in /usr/local/lib/python3.7/dist-packages (from skl2onnx) (1.4.1)\n",
            "Requirement already satisfied: scikit-learn>=0.19 in /usr/local/lib/python3.7/dist-packages (from skl2onnx) (1.0.2)\n",
            "Requirement already satisfied: six in /usr/local/lib/python3.7/dist-packages (from onnx>=1.2.1->skl2onnx) (1.15.0)\n",
            "Requirement already satisfied: typing-extensions>=3.6.2.1 in /usr/local/lib/python3.7/dist-packages (from onnx>=1.2.1->skl2onnx) (3.10.0.2)\n",
            "Requirement already satisfied: threadpoolctl>=2.0.0 in /usr/local/lib/python3.7/dist-packages (from scikit-learn>=0.19->skl2onnx) (3.0.0)\n",
            "Requirement already satisfied: joblib>=0.11 in /usr/local/lib/python3.7/dist-packages (from scikit-learn>=0.19->skl2onnx) (1.1.0)\n",
            "Installing collected packages: onnx, onnxconverter-common, skl2onnx\n",
            "Successfully installed onnx-1.10.2 onnxconverter-common-1.9.0 skl2onnx-1.10.3\n"
          ]
        }
      ]
    },
    {
      "cell_type": "code",
      "source": [
        "from skl2onnx import convert_sklearn\n",
        "from skl2onnx.common.data_types import FloatTensorType, Int32TensorType, StringTensorType\n",
        "\n",
        "initial_type = [('float_input', FloatTensorType([None, 512]))]\n",
        "final_types = [('label', StringTensorType([None, 1])), ('probabilities', FloatTensorType([None, 384]))]\n",
        "\n",
        "# label', 'probabilities\n",
        "# final_types = [('int_output', Int32TensorType([None, 1]))]\n",
        "\n",
        "\n",
        "options = {BernoulliNB: {'zipmap': False}} # enables getting probabilities in Node.\n",
        "\n",
        "onx = convert_sklearn(clf, initial_types=initial_type, options=options)\n",
        "with open(\"bernoullinb_R100_Glint360K_XSList.onnx\", \"wb\") as f:\n",
        "    f.write(onx.SerializeToString())\n"
      ],
      "metadata": {
        "colab": {
          "base_uri": "https://localhost:8080/"
        },
        "id": "dtaLz3KzPtWU",
        "outputId": "ed925d4b-1685-4714-87aa-cfc58646d5bc"
      },
      "execution_count": 7,
      "outputs": [
        {
          "output_type": "stream",
          "name": "stderr",
          "text": [
            "/usr/local/lib/python3.7/dist-packages/sklearn/utils/deprecation.py:103: FutureWarning: Attribute `coef_` was deprecated in version 0.24 and will be removed in 1.1 (renaming of 0.26).\n",
            "  warnings.warn(msg, category=FutureWarning)\n",
            "/usr/local/lib/python3.7/dist-packages/sklearn/utils/deprecation.py:103: FutureWarning: Attribute `intercept_` was deprecated in version 0.24 and will be removed in 1.1 (renaming of 0.26).\n",
            "  warnings.warn(msg, category=FutureWarning)\n",
            "/usr/local/lib/python3.7/dist-packages/sklearn/utils/deprecation.py:103: FutureWarning: Attribute `n_features_` was deprecated in version 1.0 and will be removed in 1.2. Use `n_features_in_` instead.\n",
            "  warnings.warn(msg, category=FutureWarning)\n"
          ]
        }
      ]
    },
    {
      "cell_type": "code",
      "source": [
        "type(clf)"
      ],
      "metadata": {
        "colab": {
          "base_uri": "https://localhost:8080/"
        },
        "id": "AMacgMd_kPRa",
        "outputId": "17aa1d94-11b8-4716-f3cf-f1022170b057"
      },
      "execution_count": 8,
      "outputs": [
        {
          "output_type": "execute_result",
          "data": {
            "text/plain": [
              "sklearn.naive_bayes.BernoulliNB"
            ]
          },
          "metadata": {},
          "execution_count": 8
        }
      ]
    },
    {
      "cell_type": "code",
      "source": [
        "!pip install onnxruntime"
      ],
      "metadata": {
        "colab": {
          "base_uri": "https://localhost:8080/"
        },
        "id": "o-NMr4IHQEnv",
        "outputId": "53189241-f089-4ad4-d7eb-888224432d05"
      },
      "execution_count": 9,
      "outputs": [
        {
          "output_type": "stream",
          "name": "stdout",
          "text": [
            "Collecting onnxruntime\n",
            "  Downloading onnxruntime-1.10.0-cp37-cp37m-manylinux_2_17_x86_64.manylinux2014_x86_64.whl (4.9 MB)\n",
            "\u001b[K     |████████████████████████████████| 4.9 MB 5.2 MB/s \n",
            "\u001b[?25hRequirement already satisfied: flatbuffers in /usr/local/lib/python3.7/dist-packages (from onnxruntime) (2.0)\n",
            "Requirement already satisfied: protobuf in /usr/local/lib/python3.7/dist-packages (from onnxruntime) (3.17.3)\n",
            "Requirement already satisfied: numpy>=1.16.6 in /usr/local/lib/python3.7/dist-packages (from onnxruntime) (1.19.5)\n",
            "Requirement already satisfied: six>=1.9 in /usr/local/lib/python3.7/dist-packages (from protobuf->onnxruntime) (1.15.0)\n",
            "Installing collected packages: onnxruntime\n",
            "Successfully installed onnxruntime-1.10.0\n"
          ]
        }
      ]
    },
    {
      "cell_type": "code",
      "source": [
        "import onnxruntime as rt\n",
        "import numpy\n",
        "\n",
        "ii = [X_test[0]]\n",
        "\n",
        "sess = rt.InferenceSession(\"bernoullinb_R100_Glint360K_XSList.onnx\")\n",
        "input_name = sess.get_inputs()[0].name\n",
        "label_name = sess.get_outputs()[0].name\n",
        "\n",
        "sess.run([label_name], {input_name: ii})[0]\n"
      ],
      "metadata": {
        "colab": {
          "base_uri": "https://localhost:8080/"
        },
        "id": "HgusiSfOQJrM",
        "outputId": "cce8b1fd-e467-4f83-cfda-643aa26804f2"
      },
      "execution_count": 10,
      "outputs": [
        {
          "output_type": "execute_result",
          "data": {
            "text/plain": [
              "array(['129251/Kokona_Asakura'], dtype=object)"
            ]
          },
          "metadata": {},
          "execution_count": 10
        }
      ]
    },
    {
      "cell_type": "code",
      "source": [
        "clf.predict(ii)"
      ],
      "metadata": {
        "colab": {
          "base_uri": "https://localhost:8080/"
        },
        "id": "MFuCb_TGjt1S",
        "outputId": "46605400-0073-47ee-c393-0e22ab2f2d5a"
      },
      "execution_count": 11,
      "outputs": [
        {
          "output_type": "execute_result",
          "data": {
            "text/plain": [
              "array(['129251/Kokona_Asakura'], dtype='<U24')"
            ]
          },
          "metadata": {},
          "execution_count": 11
        }
      ]
    },
    {
      "cell_type": "code",
      "source": [
        "namedict = dict()\n",
        "idx = 0\n",
        "for i in Y:\n",
        "  if i not in namedict:\n",
        "    namedict.update({i:idx})\n",
        "    idx += 1"
      ],
      "metadata": {
        "id": "Lv_whiUTyq-f"
      },
      "execution_count": 12,
      "outputs": []
    },
    {
      "cell_type": "code",
      "source": [
        "import json \n",
        "f = open('label-id.json','w')\n",
        "json.dump(namedict, f)\n",
        "f.close()"
      ],
      "metadata": {
        "id": "gW8y3ILS0OUo"
      },
      "execution_count": 13,
      "outputs": []
    },
    {
      "cell_type": "code",
      "source": [
        "import json \n",
        "f = open('classes.json','w')\n",
        "json.dump(list(clf.classes_), f)\n",
        "f.close()"
      ],
      "metadata": {
        "id": "V9sfZFUA1coa"
      },
      "execution_count": 14,
      "outputs": []
    }
  ]
}